{
 "cells": [
  {
   "cell_type": "markdown",
   "id": "2c075cb6-efa8-4c84-ad77-35b98963f4f0",
   "metadata": {},
   "source": [
    "### Dual-Tree Complex Wavelet Packet Transforms (DT-CWPT)\n",
    "\n",
    "- Basic understanding of Wavelet Packet Transforms:\n",
    "\n",
    "    - [Understanding Wavelets, Part 1: What Are Wavelets](https://www.youtube.com/watch?v=QX1-xGVFqmw&list=PLn8PRpmsu08ojy02wi4QLVzELM545Xw3p&index=1)\n",
    "\n",
    "    - [Understanding Wavelets, Part 2: Types of Wavelet Transforms](https://www.youtube.com/watch?v=F7Lg-nFYooU&list=PLn8PRpmsu08ojy02wi4QLVzELM545Xw3p&index=2)\n",
    "\n",
    "- [Dual-Tree Complex Wavelet Packet Transform](https://web.itu.edu.tr/ibayram/dtcwpt/)\n"
   ]
  },
  {
   "cell_type": "code",
   "execution_count": null,
   "id": "104ebd14-31e8-485c-b095-a5740da02ef8",
   "metadata": {},
   "outputs": [],
   "source": []
  }
 ],
 "metadata": {
  "kernelspec": {
   "display_name": "sickbay",
   "language": "python",
   "name": "sickbay"
  },
  "language_info": {
   "codemirror_mode": {
    "name": "ipython",
    "version": 3
   },
   "file_extension": ".py",
   "mimetype": "text/x-python",
   "name": "python",
   "nbconvert_exporter": "python",
   "pygments_lexer": "ipython3",
   "version": "3.10.13"
  }
 },
 "nbformat": 4,
 "nbformat_minor": 5
}
