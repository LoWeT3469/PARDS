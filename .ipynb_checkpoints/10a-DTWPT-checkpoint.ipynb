{
 "cells": [
  {
   "cell_type": "code",
   "execution_count": null,
   "id": "ddec1385-3681-481c-8088-1ba8e019efe4",
   "metadata": {},
   "outputs": [],
   "source": [
    "import numpy as np\n",
    "from scipy.signal import convolve"
   ]
  },
  {
   "cell_type": "code",
   "execution_count": null,
   "id": "cb3c6156-f1d2-4c44-9292-af3cd41df2a9",
   "metadata": {},
   "outputs": [],
   "source": [
    "def afb(x, h0, h1):\n",
    "    \"\"\"\n",
    "    Analysis Filter Bank (AFB)\n",
    "    \n",
    "    Parameters:\n",
    "    x : input signal\n",
    "    h0, h1 : analysis filters\n",
    "    \n",
    "    Returns:\n",
    "    y : output -> [lowpass_channel, highpass_channel]\n",
    "    \"\"\"\n",
    "    # Low-pass filter\n",
    "    temp = convolve(x, h0, mode='full')\n",
    "    temp[:len(temp) - len(x)] += temp[len(x):]\n",
    "    y0 = temp[:len(x):2]\n",
    "    \n",
    "    # High-pass filter\n",
    "    temp = convolve(x, h1, mode='full')\n",
    "    temp[:len(temp) - len(x)] += temp[len(x):]\n",
    "    y1 = temp[:len(x):2]\n",
    "    \n",
    "    return np.vstack((y0, y1))\n"
   ]
  },
  {
   "cell_type": "code",
   "execution_count": null,
   "id": "e90cf4ca-c06c-4e58-a61e-c96a5778cdc6",
   "metadata": {},
   "outputs": [],
   "source": [
    "def DTWPT(x, h_first, h, f, max_level):\n",
    "    \"\"\"\n",
    "    Dual-Tree Wavelet Packet Transform (DTWPT)\n",
    "    \n",
    "    Parameters:\n",
    "    x : input signal\n",
    "    h_first : first stage filters ([h0_first, h1_first])\n",
    "    h : dual-tree filters ([h0, h1])\n",
    "    f : the 'same' filters ([f0, f1])\n",
    "    max_level : maximum level\n",
    "    \n",
    "    Returns:\n",
    "    y : output list containing all of the branches\n",
    "    \"\"\"\n",
    "    y = {}\n",
    "\n",
    "    # First stage\n",
    "    fil0 = h_first[0, :]\n",
    "    fil1 = h_first[1, :]\n",
    "    yy = afb(x, fil0, fil1)\n",
    "    y[(1, 1)] = yy[0, :]\n",
    "    y[(1, 2)] = yy[1, :]\n",
    "\n",
    "    # Second stage\n",
    "    fil0 = h[0, :]\n",
    "    fil1 = h[1, :]\n",
    "    yy = afb(y[(1, 1)], fil0, fil1)\n",
    "    y[(2, 1)] = yy[0, :]\n",
    "    y[(2, 2)] = yy[1, :]\n",
    "\n",
    "    yy = afb(y[(1, 2)], fil0, fil1)\n",
    "    y[(2, 3)] = yy[0, :]\n",
    "    y[(2, 4)] = yy[1, :]\n",
    "\n",
    "    for n in range(3, max_level + 1):\n",
    "        for k in range(1, 2**(n - 1) + 1):\n",
    "            if k % 2**(n - 2) == 1:\n",
    "                fil0 = h[0, :]\n",
    "                fil1 = h[1, :]\n",
    "            else:\n",
    "                fil0 = f[0, :]\n",
    "                fil1 = f[1, :]\n",
    "            yy = afb(y[(n - 1, k)], fil0, fil1)\n",
    "            y[(n, 2 * k - 1)] = yy[0, :]\n",
    "            y[(n, 2 * k)] = yy[1, :]\n",
    "\n",
    "    return [y[(max_level, k)] for k in range(1, 2**max_level + 1)]\n"
   ]
  },
  {
   "cell_type": "code",
   "execution_count": null,
   "id": "00190635-477c-4aa7-bedb-87eda1a3f403",
   "metadata": {},
   "outputs": [],
   "source": [
    "# Example input data and filter coefficients\n",
    "x = np.random.rand(128)\n",
    "h_first = np.array([[0.5, 0.5], [-0.5, 0.5]])\n",
    "h = np.array([[0.5, 0.5], [-0.5, 0.5]])\n",
    "f = np.array([[0.5, 0.5], [-0.5, 0.5]])\n",
    "max_level = 3\n",
    "\n",
    "# Perform DTWPT\n",
    "result = DTWPT(x, h_first, h, f, max_level)\n",
    "print(result)\n"
   ]
  }
 ],
 "metadata": {
  "kernelspec": {
   "display_name": "sickbay",
   "language": "python",
   "name": "sickbay"
  },
  "language_info": {
   "codemirror_mode": {
    "name": "ipython",
    "version": 3
   },
   "file_extension": ".py",
   "mimetype": "text/x-python",
   "name": "python",
   "nbconvert_exporter": "python",
   "pygments_lexer": "ipython3",
   "version": "3.10.13"
  }
 },
 "nbformat": 4,
 "nbformat_minor": 5
}
