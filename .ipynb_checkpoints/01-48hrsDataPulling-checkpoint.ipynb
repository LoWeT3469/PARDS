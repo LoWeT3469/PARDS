{
 "cells": [
  {
   "cell_type": "markdown",
   "id": "dd17567f-306e-4570-b854-638bc7e78df0",
   "metadata": {},
   "source": [
    "#### Load datasets:"
   ]
  },
  {
   "cell_type": "code",
   "execution_count": 2,
   "id": "f5fddc0c-3ccd-4c02-997b-6cae39189bb0",
   "metadata": {
    "tags": []
   },
   "outputs": [
    {
     "name": "stdout",
     "output_type": "stream",
     "text": [
      "(271, 2)\n",
      "(3517, 48)\n",
      "(615, 48)\n",
      "(308, 48)\n"
     ]
    }
   ],
   "source": [
    "import pandas as pd\n",
    "\n",
    "# Read the csv files into DataFrames\n",
    "mrns = pd.read_csv('Study 17_Cohort 27_MRN_KEY_THIS_FILE_CONTAINS_PHI.csv')\n",
    "print(mrns.shape)\n",
    "\n",
    "dates = pd.read_csv('FollowingOutcomesAft-IntubationAndPARDSPa_DATA_2024-01-11_1451.csv')\n",
    "print(dates.shape)\n",
    "\n",
    "## Select rows where 'Screener_ards_ventilated' is 1 and 'screener_ards_vent_how' is in [1, 2]\n",
    "dates = dates[(dates['screener_ards_ventilated'] == 1) & (dates['screener_ards_vent_how'].isin([1, 2]))]\n",
    "print(dates.shape)\n",
    "\n",
    "# Drop rows with NaN values in the 'mrn' column\n",
    "dates = dates.dropna(subset=['mrn'])\n",
    "print(dates.shape)\n",
    "\n",
    "# Convert 'mrn' column to numeric, converting non-numeric values to NaN\n",
    "dates['mrn'] = pd.to_numeric(dates['mrn'], errors='coerce')"
   ]
  },
  {
   "cell_type": "markdown",
   "id": "ad24647b-15ff-414c-a74f-1287df9941b2",
   "metadata": {},
   "source": [
    "#### Match MRNs and screener date:"
   ]
  },
  {
   "cell_type": "code",
   "execution_count": 31,
   "id": "e16f060e-4855-4129-9373-c2fd0e2909d8",
   "metadata": {
    "tags": []
   },
   "outputs": [
    {
     "name": "stdout",
     "output_type": "stream",
     "text": [
      "     Patient ID        MRN  Time Start\n",
      "0           845  101653108   3/24/2023\n",
      "1          1465  101625133   9/30/2022\n",
      "2          1465  101625133  11/23/2022\n",
      "3          1626  100723355   1/23/2023\n",
      "4          1747  101554398    4/3/2023\n",
      "..          ...        ...         ...\n",
      "303     1015622   38821817   12/6/2023\n",
      "304     1018260  101886381   12/9/2023\n",
      "305     1018494  101886494  12/10/2023\n",
      "306     1025114  100877076  12/17/2023\n",
      "307     1026178  101890492  12/18/2023\n",
      "\n",
      "[308 rows x 3 columns]\n"
     ]
    }
   ],
   "source": [
    "# Add the screener_date from dates to mrns according to the matched mrns\n",
    "import pandas as pd\n",
    "\n",
    "# Merge DataFrames based on the common MRN column\n",
    "merged_df = pd.merge(mrns, dates, left_on='MRN', right_on='mrn', how='left')\n",
    "\n",
    "# Select only the 'MRN' and 'screener_date' columns\n",
    "result_df = merged_df[['Patient ID', 'MRN', 'screener_date']]\n",
    "\n",
    "# Drop NaN values\n",
    "result_df = result_df.dropna(subset=['MRN'])\n",
    "\n",
    "# Rename 'screener_date' to 'Time Start'\n",
    "result_df = result_df.rename(columns={'screener_date': 'Time Start'})\n",
    "\n",
    "# Display the modified DataFrame\n",
    "print(result_df)"
   ]
  },
  {
   "cell_type": "markdown",
   "id": "6537fd6b-d09d-4742-b4a9-f4e19b07ca28",
   "metadata": {},
   "source": [
    "#### 12 hours before intubation date."
   ]
  },
  {
   "cell_type": "code",
   "execution_count": 32,
   "id": "c502fc5f-fa88-46a4-9e72-bbd7b19523dd",
   "metadata": {},
   "outputs": [
    {
     "name": "stdout",
     "output_type": "stream",
     "text": [
      "     Patient ID        MRN          Time Start           Time Stop\n",
      "0           845  101653108 2023-03-23 12:00:00 2023-03-23 23:59:59\n",
      "1          1465  101625133 2022-09-29 12:00:00 2022-09-29 23:59:59\n",
      "2          1465  101625133 2022-11-22 12:00:00 2022-11-22 23:59:59\n",
      "3          1626  100723355 2023-01-22 12:00:00 2023-01-22 23:59:59\n",
      "4          1747  101554398 2023-04-02 12:00:00 2023-04-02 23:59:59\n",
      "..          ...        ...                 ...                 ...\n",
      "303     1015622   38821817 2023-12-05 12:00:00 2023-12-05 23:59:59\n",
      "304     1018260  101886381 2023-12-08 12:00:00 2023-12-08 23:59:59\n",
      "305     1018494  101886494 2023-12-09 12:00:00 2023-12-09 23:59:59\n",
      "306     1025114  100877076 2023-12-16 12:00:00 2023-12-16 23:59:59\n",
      "307     1026178  101890492 2023-12-17 12:00:00 2023-12-17 23:59:59\n",
      "\n",
      "[308 rows x 4 columns]\n"
     ]
    }
   ],
   "source": [
    "# Add starting time (12:00:00 PM) to 'Time Start' and stop time (23:59:59 PM) to 'Time Stop' the result_df dataframe\n",
    "\n",
    "import pandas as pd\n",
    "\n",
    "result_df0 = result_df\n",
    "\n",
    "# Convert 'Time Start' to datetime format\n",
    "result_df0['Time Start'] = pd.to_datetime(result_df0['Time Start'])\n",
    "\n",
    "# Add starting time (00:00:01 AM) to 'Time Start'\n",
    "result_df0['Time Start'] = result_df0['Time Start'] - pd.to_timedelta('12:00:00')\n",
    "\n",
    "# Add stop time (11:59:59 AM) to 'Time Stop'\n",
    "result_df0['Time Stop'] = result_df0['Time Start'] + pd.to_timedelta('11:59:59')\n",
    "\n",
    "# Display the modified DataFrame\n",
    "print(result_df0)"
   ]
  },
  {
   "cell_type": "markdown",
   "id": "5c3334cb-00ab-4a1b-9ec9-317e3e6ad7c0",
   "metadata": {},
   "source": [
    "#### Re-run the code in order to avoid time mess"
   ]
  },
  {
   "cell_type": "code",
   "execution_count": 34,
   "id": "5ba4b2b8-f87f-4846-8cdf-9a4022a67da8",
   "metadata": {},
   "outputs": [
    {
     "name": "stdout",
     "output_type": "stream",
     "text": [
      "     Patient ID        MRN  Time Start\n",
      "0           845  101653108   3/24/2023\n",
      "1          1465  101625133   9/30/2022\n",
      "2          1465  101625133  11/23/2022\n",
      "3          1626  100723355   1/23/2023\n",
      "4          1747  101554398    4/3/2023\n",
      "..          ...        ...         ...\n",
      "303     1015622   38821817   12/6/2023\n",
      "304     1018260  101886381   12/9/2023\n",
      "305     1018494  101886494  12/10/2023\n",
      "306     1025114  100877076  12/17/2023\n",
      "307     1026178  101890492  12/18/2023\n",
      "\n",
      "[308 rows x 3 columns]\n"
     ]
    }
   ],
   "source": [
    "# Add the screener_date from dates to mrns according to the matched mrns\n",
    "import pandas as pd\n",
    "\n",
    "# Merge DataFrames based on the common MRN column\n",
    "merged_df = pd.merge(mrns, dates, left_on='MRN', right_on='mrn', how='left')\n",
    "\n",
    "# Select only the 'MRN' and 'screener_date' columns\n",
    "result_df = merged_df[['Patient ID', 'MRN', 'screener_date']]\n",
    "\n",
    "# Drop NaN values\n",
    "result_df = result_df.dropna(subset=['MRN'])\n",
    "\n",
    "# Rename 'screener_date' to 'Time Start'\n",
    "result_df = result_df.rename(columns={'screener_date': 'Time Start'})\n",
    "\n",
    "# Display the modified DataFrame\n",
    "print(result_df)"
   ]
  },
  {
   "cell_type": "markdown",
   "id": "bcdbaae0-2028-499b-bc5c-05b43a137c3d",
   "metadata": {},
   "source": [
    "#### First 12 hours after intubation."
   ]
  },
  {
   "cell_type": "code",
   "execution_count": 35,
   "id": "d14778e4-a66d-401d-8e93-3d0698c71250",
   "metadata": {},
   "outputs": [
    {
     "name": "stdout",
     "output_type": "stream",
     "text": [
      "     Patient ID        MRN          Time Start           Time Stop\n",
      "0           845  101653108 2023-03-24 00:00:01 2023-03-24 12:00:00\n",
      "1          1465  101625133 2022-09-30 00:00:01 2022-09-30 12:00:00\n",
      "2          1465  101625133 2022-11-23 00:00:01 2022-11-23 12:00:00\n",
      "3          1626  100723355 2023-01-23 00:00:01 2023-01-23 12:00:00\n",
      "4          1747  101554398 2023-04-03 00:00:01 2023-04-03 12:00:00\n",
      "..          ...        ...                 ...                 ...\n",
      "303     1015622   38821817 2023-12-06 00:00:01 2023-12-06 12:00:00\n",
      "304     1018260  101886381 2023-12-09 00:00:01 2023-12-09 12:00:00\n",
      "305     1018494  101886494 2023-12-10 00:00:01 2023-12-10 12:00:00\n",
      "306     1025114  100877076 2023-12-17 00:00:01 2023-12-17 12:00:00\n",
      "307     1026178  101890492 2023-12-18 00:00:01 2023-12-18 12:00:00\n",
      "\n",
      "[308 rows x 4 columns]\n"
     ]
    }
   ],
   "source": [
    "# Add starting time (00:00:01 AM) to 'Time Start' and stop time (11:59:59 AM) to 'Time Stop' the result_df dataframe\n",
    "\n",
    "import pandas as pd\n",
    "\n",
    "result_df1 = result_df\n",
    "\n",
    "# Convert 'Time Start' to datetime format\n",
    "result_df1['Time Start'] = pd.to_datetime(result_df1['Time Start'])\n",
    "\n",
    "# Add starting time (00:00:01 AM) to 'Time Start'\n",
    "result_df1['Time Start'] = result_df1['Time Start'] + pd.to_timedelta('00:00:01')\n",
    "\n",
    "# Add stop time (11:59:59 AM) to 'Time Stop'\n",
    "result_df1['Time Stop'] = result_df1['Time Start'] + pd.to_timedelta('11:59:59')\n",
    "\n",
    "# Display the modified DataFrame\n",
    "print(result_df1)"
   ]
  },
  {
   "cell_type": "markdown",
   "id": "9cbff2c1-bbb1-4565-abe5-649ed15e44c0",
   "metadata": {},
   "source": [
    "#### Re-run the code in order to avoid time mess"
   ]
  },
  {
   "cell_type": "code",
   "execution_count": 36,
   "id": "bad4ca54-060a-444a-b841-bdbe447f4e0d",
   "metadata": {},
   "outputs": [
    {
     "name": "stdout",
     "output_type": "stream",
     "text": [
      "     Patient ID        MRN  Time Start\n",
      "0           845  101653108   3/24/2023\n",
      "1          1465  101625133   9/30/2022\n",
      "2          1465  101625133  11/23/2022\n",
      "3          1626  100723355   1/23/2023\n",
      "4          1747  101554398    4/3/2023\n",
      "..          ...        ...         ...\n",
      "303     1015622   38821817   12/6/2023\n",
      "304     1018260  101886381   12/9/2023\n",
      "305     1018494  101886494  12/10/2023\n",
      "306     1025114  100877076  12/17/2023\n",
      "307     1026178  101890492  12/18/2023\n",
      "\n",
      "[308 rows x 3 columns]\n"
     ]
    }
   ],
   "source": [
    "# Add the screener_date from dates to mrns according to the matched mrns\n",
    "import pandas as pd\n",
    "\n",
    "# Merge DataFrames based on the common MRN column\n",
    "merged_df = pd.merge(mrns, dates, left_on='MRN', right_on='mrn', how='left')\n",
    "\n",
    "# Select only the 'MRN' and 'screener_date' columns\n",
    "result_df = merged_df[['Patient ID', 'MRN', 'screener_date']]\n",
    "\n",
    "# Drop NaN values\n",
    "result_df = result_df.dropna(subset=['MRN'])\n",
    "\n",
    "# Rename 'screener_date' to 'Time Start'\n",
    "result_df = result_df.rename(columns={'screener_date': 'Time Start'})\n",
    "\n",
    "# Display the modified DataFrame\n",
    "print(result_df)"
   ]
  },
  {
   "cell_type": "markdown",
   "id": "4fd85d97-a0ab-4f7a-813e-b1dd89300524",
   "metadata": {},
   "source": [
    "#### Second 12 hours after intubation."
   ]
  },
  {
   "cell_type": "code",
   "execution_count": 37,
   "id": "021bc725-0d23-4241-b70a-37e2b51efee5",
   "metadata": {},
   "outputs": [
    {
     "name": "stdout",
     "output_type": "stream",
     "text": [
      "     Patient ID        MRN          Time Start           Time Stop\n",
      "0           845  101653108 2023-03-24 12:00:01 2023-03-24 23:59:59\n",
      "1          1465  101625133 2022-09-30 12:00:01 2022-09-30 23:59:59\n",
      "2          1465  101625133 2022-11-23 12:00:01 2022-11-23 23:59:59\n",
      "3          1626  100723355 2023-01-23 12:00:01 2023-01-23 23:59:59\n",
      "4          1747  101554398 2023-04-03 12:00:01 2023-04-03 23:59:59\n",
      "..          ...        ...                 ...                 ...\n",
      "303     1015622   38821817 2023-12-06 12:00:01 2023-12-06 23:59:59\n",
      "304     1018260  101886381 2023-12-09 12:00:01 2023-12-09 23:59:59\n",
      "305     1018494  101886494 2023-12-10 12:00:01 2023-12-10 23:59:59\n",
      "306     1025114  100877076 2023-12-17 12:00:01 2023-12-17 23:59:59\n",
      "307     1026178  101890492 2023-12-18 12:00:01 2023-12-18 23:59:59\n",
      "\n",
      "[308 rows x 4 columns]\n"
     ]
    }
   ],
   "source": [
    "# Add starting time (12:00:01 PM) to 'Time Start' and stop time (23:59:59 PM) to 'Time Stop' the result_df dataframe\n",
    "\n",
    "import pandas as pd\n",
    "\n",
    "result_df2 = result_df\n",
    "\n",
    "# Convert 'Time Start' to datetime format\n",
    "result_df2['Time Start'] = pd.to_datetime(result_df2['Time Start'])\n",
    "\n",
    "# Add starting time (12:00:01 PM) to 'Time Start'\n",
    "result_df2['Time Start'] = result_df2['Time Start'] + pd.to_timedelta('12:00:01')\n",
    "\n",
    "# Add stop time (23:59:59 PM) to 'Time Stop'\n",
    "result_df2['Time Stop'] = result_df2['Time Start'] + pd.to_timedelta('11:59:58')\n",
    "\n",
    "# Display the modified DataFrame\n",
    "print(result_df2)"
   ]
  },
  {
   "cell_type": "markdown",
   "id": "9679063e-e9e3-44ce-8fbd-bae018bf0688",
   "metadata": {},
   "source": [
    "#### Re-run the code in order to avoid time mess"
   ]
  },
  {
   "cell_type": "code",
   "execution_count": 40,
   "id": "e5b19026-5eed-4d6b-9648-9e8dec9f25f4",
   "metadata": {},
   "outputs": [
    {
     "name": "stdout",
     "output_type": "stream",
     "text": [
      "     Patient ID        MRN  Time Start\n",
      "0           845  101653108   3/24/2023\n",
      "1          1465  101625133   9/30/2022\n",
      "2          1465  101625133  11/23/2022\n",
      "3          1626  100723355   1/23/2023\n",
      "4          1747  101554398    4/3/2023\n",
      "..          ...        ...         ...\n",
      "303     1015622   38821817   12/6/2023\n",
      "304     1018260  101886381   12/9/2023\n",
      "305     1018494  101886494  12/10/2023\n",
      "306     1025114  100877076  12/17/2023\n",
      "307     1026178  101890492  12/18/2023\n",
      "\n",
      "[308 rows x 3 columns]\n"
     ]
    }
   ],
   "source": [
    "# Add the screener_date from dates to mrns according to the matched mrns\n",
    "import pandas as pd\n",
    "\n",
    "# Merge DataFrames based on the common MRN column\n",
    "merged_df = pd.merge(mrns, dates, left_on='MRN', right_on='mrn', how='left')\n",
    "\n",
    "# Select only the 'MRN' and 'screener_date' columns\n",
    "result_df = merged_df[['Patient ID', 'MRN', 'screener_date']]\n",
    "\n",
    "# Drop NaN values\n",
    "result_df = result_df.dropna(subset=['MRN'])\n",
    "\n",
    "# Rename 'screener_date' to 'Time Start'\n",
    "result_df = result_df.rename(columns={'screener_date': 'Time Start'})\n",
    "\n",
    "# Display the modified DataFrame\n",
    "print(result_df)"
   ]
  },
  {
   "cell_type": "markdown",
   "id": "2fad3f5a-28b0-4bf3-b756-b55bf0af6379",
   "metadata": {},
   "source": [
    "#### 12 hours after intubation date."
   ]
  },
  {
   "cell_type": "code",
   "execution_count": 41,
   "id": "75894292-b721-4353-966f-669d4d470ab3",
   "metadata": {},
   "outputs": [
    {
     "name": "stdout",
     "output_type": "stream",
     "text": [
      "     Patient ID        MRN          Time Start           Time Stop\n",
      "0           845  101653108 2023-03-25 00:00:01 2023-03-25 11:59:59\n",
      "1          1465  101625133 2022-10-01 00:00:01 2022-10-01 11:59:59\n",
      "2          1465  101625133 2022-11-24 00:00:01 2022-11-24 11:59:59\n",
      "3          1626  100723355 2023-01-24 00:00:01 2023-01-24 11:59:59\n",
      "4          1747  101554398 2023-04-04 00:00:01 2023-04-04 11:59:59\n",
      "..          ...        ...                 ...                 ...\n",
      "303     1015622   38821817 2023-12-07 00:00:01 2023-12-07 11:59:59\n",
      "304     1018260  101886381 2023-12-10 00:00:01 2023-12-10 11:59:59\n",
      "305     1018494  101886494 2023-12-11 00:00:01 2023-12-11 11:59:59\n",
      "306     1025114  100877076 2023-12-18 00:00:01 2023-12-18 11:59:59\n",
      "307     1026178  101890492 2023-12-19 00:00:01 2023-12-19 11:59:59\n",
      "\n",
      "[308 rows x 4 columns]\n"
     ]
    }
   ],
   "source": [
    "# Add starting time (00:00:01 AM) to 'Time Start' and stop time (11:59:59 AM) to 'Time Stop' the result_df dataframe\n",
    "\n",
    "import pandas as pd\n",
    "\n",
    "result_df3 = result_df\n",
    "\n",
    "# Convert 'Time Start' to datetime format\n",
    "result_df3['Time Start'] = pd.to_datetime(result_df3['Time Start'])\n",
    "\n",
    "# Add starting time (12:00:01 PM) to 'Time Start'\n",
    "result_df3['Time Start'] = result_df3['Time Start'] + pd.to_timedelta('24:00:01')\n",
    "\n",
    "# Add stop time (23:59:59 PM) to 'Time Stop'\n",
    "result_df3['Time Stop'] = result_df3['Time Start'] + pd.to_timedelta('11:59:58')\n",
    "\n",
    "# Display the modified DataFrame\n",
    "print(result_df3)"
   ]
  },
  {
   "cell_type": "markdown",
   "id": "908001f7-321c-465d-9b8f-d0fe680528ae",
   "metadata": {},
   "source": [
    "#### Combine first 12 hours and second 12 hours"
   ]
  },
  {
   "cell_type": "code",
   "execution_count": 46,
   "id": "3368802a-78ba-4f06-a0f7-de6a3996a3ad",
   "metadata": {},
   "outputs": [
    {
     "name": "stdout",
     "output_type": "stream",
     "text": [
      "     Patient ID        MRN          Time Start           Time Stop\n",
      "0           845  101653108 2023-03-24 00:00:01 2023-03-24 12:00:00\n",
      "1           845  101653108 2023-03-24 12:00:01 2023-03-24 23:59:59\n",
      "2          1465  101625133 2022-09-30 00:00:01 2022-09-30 12:00:00\n",
      "3          1465  101625133 2022-09-30 12:00:01 2022-09-30 23:59:59\n",
      "4          1465  101625133 2022-11-23 00:00:01 2022-11-23 12:00:00\n",
      "..          ...        ...                 ...                 ...\n",
      "611     1018494  101886494 2023-12-10 12:00:01 2023-12-10 23:59:59\n",
      "612     1025114  100877076 2023-12-17 00:00:01 2023-12-17 12:00:00\n",
      "613     1025114  100877076 2023-12-17 12:00:01 2023-12-17 23:59:59\n",
      "614     1026178  101890492 2023-12-18 00:00:01 2023-12-18 12:00:00\n",
      "615     1026178  101890492 2023-12-18 12:00:01 2023-12-18 23:59:59\n",
      "\n",
      "[616 rows x 4 columns]\n"
     ]
    }
   ],
   "source": [
    "# Combine result_df1 and result_df2, with same patient_id, result_df1's row first and result_df2's row as second\n",
    "# Concatenate DataFrames vertically\n",
    "combined_df = pd.concat([result_df1, result_df2], ignore_index=True)\n",
    "\n",
    "# Sort the DataFrame based on 'patient_id' and 'Time Start'\n",
    "combined_df = combined_df.sort_values(by=['Patient ID', 'Time Start']).reset_index(drop=True)\n",
    "\n",
    "# Display the combined DataFrame\n",
    "print(combined_df)\n",
    "\n",
    "# Save combined_df as csv file\n",
    "combined_df.to_csv('sample_events_PIDandMRN(308by2).csv', index=False)"
   ]
  },
  {
   "cell_type": "markdown",
   "id": "ab7255cd-ae5a-4c7a-b43a-054455de10e4",
   "metadata": {},
   "source": [
    "#### Combine four 12 hours durations. (12 hrs before + first 12 hrs + second 12 hrs + 12 hrs after)"
   ]
  },
  {
   "cell_type": "code",
   "execution_count": 47,
   "id": "dcff7b60-da4d-49e8-8dd7-c3cb24afbf64",
   "metadata": {},
   "outputs": [
    {
     "name": "stdout",
     "output_type": "stream",
     "text": [
      "      Patient ID        MRN          Time Start           Time Stop\n",
      "0            845  101653108 2023-03-23 12:00:00 2023-03-23 23:59:59\n",
      "1            845  101653108 2023-03-24 00:00:01 2023-03-24 12:00:00\n",
      "2            845  101653108 2023-03-24 12:00:01 2023-03-24 23:59:59\n",
      "3            845  101653108 2023-03-25 00:00:01 2023-03-25 11:59:59\n",
      "4           1465  101625133 2022-09-29 12:00:00 2022-09-29 23:59:59\n",
      "...          ...        ...                 ...                 ...\n",
      "1227     1025114  100877076 2023-12-18 00:00:01 2023-12-18 11:59:59\n",
      "1228     1026178  101890492 2023-12-17 12:00:00 2023-12-17 23:59:59\n",
      "1229     1026178  101890492 2023-12-18 00:00:01 2023-12-18 12:00:00\n",
      "1230     1026178  101890492 2023-12-18 12:00:01 2023-12-18 23:59:59\n",
      "1231     1026178  101890492 2023-12-19 00:00:01 2023-12-19 11:59:59\n",
      "\n",
      "[1232 rows x 4 columns]\n"
     ]
    }
   ],
   "source": [
    "# Combine result_df0. result_df1, result_df2 and result_df3, with same patient_id, result_df1's row first and result_df2's row as second\n",
    "# Concatenate DataFrames vertically\n",
    "combined_df = pd.concat([result_df0, result_df1, result_df2, result_df3], ignore_index=True)\n",
    "\n",
    "# Sort the DataFrame based on 'patient_id' and 'Time Start'\n",
    "combined_df = combined_df.sort_values(by=['Patient ID', 'Time Start']).reset_index(drop=True)\n",
    "\n",
    "# Display the combined DataFrame\n",
    "print(combined_df)\n",
    "\n",
    "# Save combined_df as csv file\n",
    "combined_df.to_csv('sample_events_PIDandMRN(308by4)_ext.csv', index=False)"
   ]
  },
  {
   "cell_type": "code",
   "execution_count": null,
   "id": "52d3246a-ef65-40e8-b95e-07b2e6af3f8f",
   "metadata": {},
   "outputs": [],
   "source": []
  }
 ],
 "metadata": {
  "kernelspec": {
   "display_name": "sickbay",
   "language": "python",
   "name": "sickbay"
  },
  "language_info": {
   "codemirror_mode": {
    "name": "ipython",
    "version": 3
   },
   "file_extension": ".py",
   "mimetype": "text/x-python",
   "name": "python",
   "nbconvert_exporter": "python",
   "pygments_lexer": "ipython3",
   "version": "3.10.13"
  }
 },
 "nbformat": 4,
 "nbformat_minor": 5
}
