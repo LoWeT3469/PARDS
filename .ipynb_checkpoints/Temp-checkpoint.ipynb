{
 "cells": [
  {
   "cell_type": "code",
   "execution_count": 1,
   "id": "363b9a05-c63b-436e-8118-1b3bc2e333be",
   "metadata": {},
   "outputs": [
    {
     "data": {
      "text/plain": [
       "58816"
      ]
     },
     "execution_count": 1,
     "metadata": {},
     "output_type": "execute_result"
    }
   ],
   "source": [
    "8 * 7352"
   ]
  },
  {
   "cell_type": "code",
   "execution_count": 2,
   "id": "eaa8447c-ebe9-44a2-8b07-bfccb26153ce",
   "metadata": {},
   "outputs": [
    {
     "data": {
      "text/plain": [
       "58816"
      ]
     },
     "execution_count": 2,
     "metadata": {},
     "output_type": "execute_result"
    }
   ],
   "source": [
    "16 * 3676"
   ]
  },
  {
   "cell_type": "code",
   "execution_count": null,
   "id": "22391548-930e-4184-ae71-e8a2ee81c651",
   "metadata": {},
   "outputs": [],
   "source": []
  }
 ],
 "metadata": {
  "kernelspec": {
   "display_name": "sickbay",
   "language": "python",
   "name": "sickbay"
  },
  "language_info": {
   "codemirror_mode": {
    "name": "ipython",
    "version": 3
   },
   "file_extension": ".py",
   "mimetype": "text/x-python",
   "name": "python",
   "nbconvert_exporter": "python",
   "pygments_lexer": "ipython3",
   "version": "3.10.13"
  }
 },
 "nbformat": 4,
 "nbformat_minor": 5
}
