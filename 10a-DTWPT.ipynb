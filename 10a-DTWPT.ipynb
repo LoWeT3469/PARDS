{
 "cells": [
  {
   "cell_type": "code",
   "execution_count": 1,
   "id": "ddec1385-3681-481c-8088-1ba8e019efe4",
   "metadata": {},
   "outputs": [],
   "source": [
    "import numpy as np\n",
    "from scipy.signal import convolve"
   ]
  },
  {
   "cell_type": "code",
   "execution_count": 2,
   "id": "cb3c6156-f1d2-4c44-9292-af3cd41df2a9",
   "metadata": {},
   "outputs": [],
   "source": [
    "def afb(x, h0, h1):\n",
    "    \"\"\"\n",
    "    Analysis Filter Bank (AFB)\n",
    "    \n",
    "    Parameters:\n",
    "    x : input signal\n",
    "    h0, h1 : analysis filters\n",
    "    \n",
    "    Returns:\n",
    "    y : output -> [lowpass_channel, highpass_channel]\n",
    "    \"\"\"\n",
    "    # Low-pass filter\n",
    "    temp = convolve(x, h0, mode='full')\n",
    "    temp[:len(temp) - len(x)] += temp[len(x):]\n",
    "    y0 = temp[:len(x):2]\n",
    "    \n",
    "    # High-pass filter\n",
    "    temp = convolve(x, h1, mode='full')\n",
    "    temp[:len(temp) - len(x)] += temp[len(x):]\n",
    "    y1 = temp[:len(x):2]\n",
    "    \n",
    "    return np.vstack((y0, y1))\n"
   ]
  },
  {
   "cell_type": "code",
   "execution_count": 3,
   "id": "e90cf4ca-c06c-4e58-a61e-c96a5778cdc6",
   "metadata": {},
   "outputs": [],
   "source": [
    "def DTWPT(x, h_first, h, f, max_level):\n",
    "    \"\"\"\n",
    "    Dual-Tree Wavelet Packet Transform (DTWPT)\n",
    "    \n",
    "    Parameters:\n",
    "    x : input signal\n",
    "    h_first : first stage filters ([h0_first, h1_first])\n",
    "    h : dual-tree filters ([h0, h1])\n",
    "    f : the 'same' filters ([f0, f1])\n",
    "    max_level : maximum level\n",
    "    \n",
    "    Returns:\n",
    "    y : output list containing all of the branches\n",
    "    \"\"\"\n",
    "    y = {}\n",
    "\n",
    "    # First stage\n",
    "    fil0 = h_first[0, :]\n",
    "    fil1 = h_first[1, :]\n",
    "    yy = afb(x, fil0, fil1)\n",
    "    y[(1, 1)] = yy[0, :]\n",
    "    y[(1, 2)] = yy[1, :]\n",
    "\n",
    "    # Second stage\n",
    "    fil0 = h[0, :]\n",
    "    fil1 = h[1, :]\n",
    "    yy = afb(y[(1, 1)], fil0, fil1)\n",
    "    y[(2, 1)] = yy[0, :]\n",
    "    y[(2, 2)] = yy[1, :]\n",
    "\n",
    "    yy = afb(y[(1, 2)], fil0, fil1)\n",
    "    y[(2, 3)] = yy[0, :]\n",
    "    y[(2, 4)] = yy[1, :]\n",
    "\n",
    "    for n in range(3, max_level + 1):\n",
    "        for k in range(1, 2**(n - 1) + 1):\n",
    "            if k % 2**(n - 2) == 1:\n",
    "                fil0 = h[0, :]\n",
    "                fil1 = h[1, :]\n",
    "            else:\n",
    "                fil0 = f[0, :]\n",
    "                fil1 = f[1, :]\n",
    "            yy = afb(y[(n - 1, k)], fil0, fil1)\n",
    "            y[(n, 2 * k - 1)] = yy[0, :]\n",
    "            y[(n, 2 * k)] = yy[1, :]\n",
    "\n",
    "    return [y[(max_level, k)] for k in range(1, 2**max_level + 1)]\n"
   ]
  },
  {
   "cell_type": "code",
   "execution_count": 4,
   "id": "00190635-477c-4aa7-bedb-87eda1a3f403",
   "metadata": {},
   "outputs": [
    {
     "name": "stdout",
     "output_type": "stream",
     "text": [
      "[array([0.66438168, 0.58345751, 0.73893422, 0.4990531 , 0.40901034,\n",
      "       0.62397363, 0.29541942, 0.60041081, 0.61208978, 0.66057216,\n",
      "       0.6377963 , 0.6273698 , 0.42406311, 0.28356758, 0.30998267,\n",
      "       0.39598139]), array([ 0.01796235,  0.15777683,  0.13815212, -0.05874042,  0.10688973,\n",
      "        0.04094656,  0.07217607,  0.04278388, -0.1028896 , -0.05639747,\n",
      "        0.17705365, -0.0005387 , -0.03790552,  0.14344741, -0.04153116,\n",
      "       -0.0792124 ]), array([-0.06189324,  0.06919202, -0.02936579, -0.10047036,  0.0182186 ,\n",
      "       -0.01417357, -0.01850767, -0.02720516, -0.02880154,  0.11490034,\n",
      "        0.01439954,  0.1592502 ,  0.0675191 , -0.09452313, -0.00109411,\n",
      "       -0.12134137]), array([ 0.1278711 , -0.04762781,  0.01711607,  0.05291191, -0.13329258,\n",
      "        0.12912719,  0.17278079,  0.20473933,  0.22998093,  0.04525778,\n",
      "       -0.06615363,  0.13016601,  0.14413715,  0.00111229,  0.04716777,\n",
      "       -0.09603217]), array([ 0.04020203,  0.07783519, -0.05228785,  0.15206311, -0.31870976,\n",
      "        0.03216912, -0.10361534,  0.05253468, -0.01896962,  0.13384655,\n",
      "       -0.02841117, -0.11715386, -0.01447848,  0.01541202,  0.11645992,\n",
      "        0.24280789]), array([-0.07344752, -0.03267247, -0.0420059 ,  0.20938687, -0.03719975,\n",
      "       -0.01730105,  0.01069942, -0.00939412, -0.00940113,  0.0942548 ,\n",
      "        0.1143294 ,  0.2067606 , -0.02392365, -0.06117852, -0.05257847,\n",
      "       -0.08157258]), array([ 0.01582485,  0.10838309,  0.01051934, -0.12916758, -0.08045828,\n",
      "       -0.02632528,  0.03922792, -0.08380027, -0.04960989, -0.03767545,\n",
      "       -0.08214393, -0.02565316, -0.22261277,  0.15785848,  0.02872166,\n",
      "       -0.17348078]), array([-0.09239735,  0.01969581, -0.02294642,  0.10527709,  0.07408248,\n",
      "       -0.00645413, -0.07014845, -0.02986205, -0.05244365,  0.04505649,\n",
      "        0.08101953, -0.07973513,  0.11648094,  0.21686291, -0.01696405,\n",
      "       -0.05164992])]\n"
     ]
    }
   ],
   "source": [
    "# Example input data and filter coefficients\n",
    "x = np.random.rand(128)\n",
    "h_first = np.array([[0.5, 0.5], [-0.5, 0.5]])\n",
    "h = np.array([[0.5, 0.5], [-0.5, 0.5]])\n",
    "f = np.array([[0.5, 0.5], [-0.5, 0.5]])\n",
    "max_level = 3\n",
    "\n",
    "# Perform DTWPT\n",
    "result = DTWPT(x, h_first, h, f, max_level)\n",
    "print(result)\n"
   ]
  },
  {
   "cell_type": "code",
   "execution_count": null,
   "id": "de420d73-959e-476b-97e5-b39e3f9193b9",
   "metadata": {},
   "outputs": [],
   "source": []
  }
 ],
 "metadata": {
  "kernelspec": {
   "display_name": "sickbay",
   "language": "python",
   "name": "sickbay"
  },
  "language_info": {
   "codemirror_mode": {
    "name": "ipython",
    "version": 3
   },
   "file_extension": ".py",
   "mimetype": "text/x-python",
   "name": "python",
   "nbconvert_exporter": "python",
   "pygments_lexer": "ipython3",
   "version": "3.10.13"
  }
 },
 "nbformat": 4,
 "nbformat_minor": 5
}
