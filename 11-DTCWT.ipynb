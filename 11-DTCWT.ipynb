{
 "cells": [
  {
   "cell_type": "markdown",
   "id": "2c075cb6-efa8-4c84-ad77-35b98963f4f0",
   "metadata": {},
   "source": [
    "### Dual-Tree Complex Wavelet Packet Transforms (DT-CWPT)"
   ]
  },
  {
   "cell_type": "code",
   "execution_count": null,
   "id": "0d542640-16d2-4adb-9cf7-b5239beb95b7",
   "metadata": {},
   "outputs": [],
   "source": []
  }
 ],
 "metadata": {
  "kernelspec": {
   "display_name": "sickbay",
   "language": "python",
   "name": "sickbay"
  },
  "language_info": {
   "codemirror_mode": {
    "name": "ipython",
    "version": 3
   },
   "file_extension": ".py",
   "mimetype": "text/x-python",
   "name": "python",
   "nbconvert_exporter": "python",
   "pygments_lexer": "ipython3",
   "version": "3.10.13"
  }
 },
 "nbformat": 4,
 "nbformat_minor": 5
}
