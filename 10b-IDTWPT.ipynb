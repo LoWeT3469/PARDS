{
 "cells": [
  {
   "cell_type": "code",
   "execution_count": null,
   "id": "e59ae8e2-63fd-41de-a84c-ab5e5dbf0367",
   "metadata": {},
   "outputs": [],
   "source": [
    "import numpy as np\n",
    "from scipy.signal import convolve"
   ]
  },
  {
   "cell_type": "code",
   "execution_count": null,
   "id": "6e8e44f6-37b9-4ded-9019-d774baac77dc",
   "metadata": {},
   "outputs": [],
   "source": [
    "def sfb(y, g0, g1):\n",
    "    \"\"\"\n",
    "    Synthesis Filter Bank (SFB)\n",
    "    \n",
    "    Parameters:\n",
    "    y : output from 'afb' function\n",
    "    g0, g1 : synthesis filters\n",
    "    \n",
    "    Returns:\n",
    "    x : reconstructed input\n",
    "    \"\"\"\n",
    "    # Upsample the signals\n",
    "    x0 = np.zeros(2 * len(y[0]), dtype=y.dtype)\n",
    "    x1 = np.zeros(2 * len(y[0]), dtype=y.dtype)\n",
    "\n",
    "    x0[::2] = y[0]\n",
    "    x1[::2] = y[1]\n",
    "\n",
    "    # Convolve with the synthesis filters\n",
    "    temp = convolve(x0, g0, mode='full')\n",
    "    temp[:len(temp) - len(x0)] += temp[len(x0):]\n",
    "    take = temp[:len(x0)]\n",
    "    shift = len(g0)\n",
    "    take0 = take[np.mod(np.arange(len(x0)) + shift - 1, len(x0))]\n",
    "\n",
    "    temp = convolve(x1, g1, mode='full')\n",
    "    temp[:len(temp) - len(x1)] += temp[len(x1):]\n",
    "    take = temp[:len(x1)]\n",
    "    shift = len(g1)\n",
    "    take1 = take[np.mod(np.arange(len(x1)) + shift - 1, len(x1))]\n",
    "\n",
    "    return take0 + take1\n"
   ]
  },
  {
   "cell_type": "code",
   "execution_count": null,
   "id": "a5222480-e3be-4268-a1b7-6b1d8c9a6a10",
   "metadata": {},
   "outputs": [],
   "source": [
    "def IDTWPT(y, h_first, h, f):\n",
    "    \"\"\"\n",
    "    Inverse Dual-Tree Wavelet Packet Transform (IDTWPT)\n",
    "    \n",
    "    Parameters:\n",
    "    y : the cell array arranged as in DTWPT\n",
    "    h_first : first stage synthesis filters ([h0_first, h1_first])\n",
    "    h : dual-tree synthesis filters ([h0, h1])\n",
    "    f : the 'same' synthesis filters ([f0, f1])\n",
    "    \n",
    "    Returns:\n",
    "    x : reconstructed input signal\n",
    "    \"\"\"\n",
    "    max_level = int(np.log2(len(y)))\n",
    "\n",
    "    xx = y[0, :].tolist()\n",
    "\n",
    "    for n in range(max_level, 2, -1):\n",
    "        x2 = [None] * (2**(n - 1))\n",
    "        for k in range(1, 2**(n - 1) + 1):\n",
    "            if k % 2**(n - 2) == 1:\n",
    "                fil0 = h[0, :]\n",
    "                fil1 = h[1, :]\n",
    "            else:\n",
    "                fil0 = f[0, :]\n",
    "                fil1 = f[1, :]\n",
    "            x2[k - 1] = sfb([xx[2 * k - 2], xx[2 * k - 1]], fil0, fil1)\n",
    "        xx = x2\n",
    "\n",
    "    # Second stage\n",
    "    fil0 = h[0, :]\n",
    "    fil1 = h[1, :]\n",
    "    x2 = [None] * 2\n",
    "    x2[0] = sfb([xx[0], xx[1]], fil0, fil1)\n",
    "    x2[1] = sfb([xx[2], xx[3]], fil0, fil1)\n",
    "\n",
    "    # First stage\n",
    "    fil0 = h_first[0, :]\n",
    "    fil1 = h_first[1, :]\n",
    "    x = sfb([x2[0], x2[1]], fil0, fil1)\n",
    "\n",
    "    return x\n"
   ]
  },
  {
   "cell_type": "code",
   "execution_count": null,
   "id": "3a3755ee-56fa-41b3-b4ba-b39fc7ea539c",
   "metadata": {},
   "outputs": [],
   "source": [
    "# Example input data and filter coefficients\n",
    "y = np.random.rand(1, 8)  # Replace with actual coefficients\n",
    "h_first = np.array([[0.5, 0.5], [-0.5, 0.5]])\n",
    "h = np.array([[0.5, 0.5], [-0.5, 0.5]])\n",
    "f = np.array([[0.5, 0.5], [-0.5, 0.5]])\n",
    "\n",
    "# Perform IDTWPT\n",
    "x_reconstructed = IDTWPT(y, h_first, h, f)\n",
    "print(x_reconstructed)\n"
   ]
  }
 ],
 "metadata": {
  "kernelspec": {
   "display_name": "sickbay",
   "language": "python",
   "name": "sickbay"
  },
  "language_info": {
   "codemirror_mode": {
    "name": "ipython",
    "version": 3
   },
   "file_extension": ".py",
   "mimetype": "text/x-python",
   "name": "python",
   "nbconvert_exporter": "python",
   "pygments_lexer": "ipython3",
   "version": "3.10.13"
  }
 },
 "nbformat": 4,
 "nbformat_minor": 5
}
